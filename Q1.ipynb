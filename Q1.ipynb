{
 "cells": [
  {
   "cell_type": "code",
   "execution_count": 1,
   "metadata": {},
   "outputs": [],
   "source": [
    "from pyspark.sql import SparkSession\n",
    "from pyspark.sql.types import *\n",
    "from pyspark.sql.functions import *\n",
    "from pyspark.sql.window import Window\n",
    "from pyspark.sql import functions as func\n",
    "from functools import reduce\n",
    "\n",
    "\n",
    "spark = SparkSession.builder \\\n",
    " .appName(\"moving_average\")\\\n",
    " .config(\"Pausedspark.sql.shuffle.partitions\", \"4\") \\\n",
    " .getOrCreate()\n"
   ]
  },
  {
   "cell_type": "code",
   "execution_count": 2,
   "metadata": {},
   "outputs": [
    {
     "name": "stdout",
     "output_type": "stream",
     "text": [
      "The history saving thread hit an unexpected error (OperationalError('database is locked',)).History will not be written to the database.\n"
     ]
    }
   ],
   "source": [
    "  df = spark.read \\\n",
    " .option(\"inferSchema\", \"true\") \\\n",
    " .option(\"header\", \"true\") \\\n",
    " .option(\"delimiter\", \",\") \\\n",
    " .csv(\"/home/spark/Downloads/archive/rejected_2007_to_2018q4.csv\")"
   ]
  },
  {
   "cell_type": "code",
   "execution_count": 3,
   "metadata": {},
   "outputs": [
    {
     "name": "stdout",
     "output_type": "stream",
     "text": [
      "root\n",
      " |-- Amount Requested: double (nullable = true)\n",
      " |-- Application Date: string (nullable = true)\n",
      " |-- Loan Title: string (nullable = true)\n",
      " |-- Risk_Score: string (nullable = true)\n",
      " |-- Debt-To-Income Ratio: string (nullable = true)\n",
      " |-- Zip Code: string (nullable = true)\n",
      " |-- State: string (nullable = true)\n",
      " |-- Employment Length: string (nullable = true)\n",
      " |-- Policy Code: string (nullable = true)\n",
      "\n"
     ]
    }
   ],
   "source": [
    "## Schema print just after loading file. so it has space in column name\n",
    "df.printSchema()"
   ]
  },
  {
   "cell_type": "code",
   "execution_count": 4,
   "metadata": {},
   "outputs": [
    {
     "data": {
      "text/plain": [
       "27648741"
      ]
     },
     "execution_count": 4,
     "metadata": {},
     "output_type": "execute_result"
    }
   ],
   "source": [
    "## Total count of file\n",
    "df.count()\n"
   ]
  },
  {
   "cell_type": "code",
   "execution_count": 5,
   "metadata": {
    "scrolled": true
   },
   "outputs": [
    {
     "name": "stdout",
     "output_type": "stream",
     "text": [
      "['Amount Requested', 'Application Date', 'Loan Title', 'Risk_Score', 'Debt-To-Income Ratio', 'Zip Code', 'State', 'Employment Length', 'Policy Code']\n",
      "['AMOUNT_REQUESTED', 'APPLICATION_DATE', 'LOAN_TITLE', 'RISK_SCORE', 'DEBT-TO-INCOME_RATIO', 'ZIP_CODE', 'STATE', 'EMPLOYMENT_LENGTH', 'POLICY_CODE']\n",
      "root\n",
      " |-- AMOUNT_REQUESTED: double (nullable = true)\n",
      " |-- APPLICATION_DATE: string (nullable = true)\n",
      " |-- LOAN_TITLE: string (nullable = true)\n",
      " |-- RISK_SCORE: string (nullable = true)\n",
      " |-- DEBT-TO-INCOME_RATIO: string (nullable = true)\n",
      " |-- ZIP_CODE: string (nullable = true)\n",
      " |-- STATE: string (nullable = true)\n",
      " |-- EMPLOYMENT_LENGTH: string (nullable = true)\n",
      " |-- POLICY_CODE: string (nullable = true)\n",
      "\n"
     ]
    }
   ],
   "source": [
    "\n",
    "current_columns = df.columns # Returns list of columns as python list\n",
    "print(current_columns)\n",
    "\n",
    "new_columns = list(map(lambda item : item.replace(\" \",\"_\").upper(),current_columns)) \n",
    "\n",
    "# Replacing white spaces with '_' and converting the whole column name to upper case\n",
    "\n",
    "print(new_columns)\n",
    "\n",
    "\n",
    "df_ma = reduce(lambda data, idx: data.withColumnRenamed(current_columns[idx], new_columns[idx]), range(len(current_columns)), df)\n",
    "\n",
    "df_ma.printSchema()\n",
    "\n"
   ]
  },
  {
   "cell_type": "code",
   "execution_count": 6,
   "metadata": {},
   "outputs": [
    {
     "data": {
      "text/plain": [
       "5274"
      ]
     },
     "execution_count": 6,
     "metadata": {},
     "output_type": "execute_result"
    }
   ],
   "source": [
    "## Filterd only 2007 records\n",
    "df_ma=df_ma.filter(year(\"APPLICATION_DATE\") == lit(\"2007\"))\n",
    "\n",
    "## count of 2007 data only\n",
    "df_ma.count()"
   ]
  },
  {
   "cell_type": "code",
   "execution_count": 14,
   "metadata": {
    "scrolled": false
   },
   "outputs": [
    {
     "name": "stdout",
     "output_type": "stream",
     "text": [
      "+----------------+----------+-----------------+\n",
      "|APPLICATION_DATE|RISK_SCORE|RiskScoreMA50    |\n",
      "+----------------+----------+-----------------+\n",
      "|2007-05-26      |693.0     |698.0            |\n",
      "|2007-05-26      |703.0     |698.0            |\n",
      "|2007-05-27      |715.0     |669.5            |\n",
      "|2007-05-27      |698.0     |669.5            |\n",
      "|2007-05-27      |509.0     |669.5            |\n",
      "|2007-05-27      |645.0     |669.5            |\n",
      "|2007-05-27      |693.0     |669.5            |\n",
      "|2007-05-27      |700.0     |669.5            |\n",
      "|2007-05-28      |694.0     |675.4375         |\n",
      "|2007-05-28      |573.0     |675.4375         |\n",
      "|2007-05-28      |710.0     |675.4375         |\n",
      "|2007-05-28      |680.0     |675.4375         |\n",
      "|2007-05-28      |688.0     |675.4375         |\n",
      "|2007-05-28      |704.0     |675.4375         |\n",
      "|2007-05-28      |694.0     |675.4375         |\n",
      "|2007-05-28      |708.0     |675.4375         |\n",
      "|2007-05-29      |685.0     |683.9285714285714|\n",
      "|2007-05-29      |698.0     |683.9285714285714|\n",
      "|2007-05-29      |680.0     |683.9285714285714|\n",
      "|2007-05-29      |680.0     |683.9285714285714|\n",
      "|2007-05-29      |712.0     |683.9285714285714|\n",
      "|2007-05-29      |704.0     |683.9285714285714|\n",
      "|2007-05-29      |693.0     |683.9285714285714|\n",
      "|2007-05-29      |684.0     |683.9285714285714|\n",
      "|2007-05-29      |704.0     |683.9285714285714|\n",
      "|2007-05-29      |686.0     |683.9285714285714|\n",
      "|2007-05-29      |698.0     |683.9285714285714|\n",
      "|2007-05-29      |719.0     |683.9285714285714|\n",
      "|2007-05-30      |602.0     |653.3076923076923|\n",
      "|2007-05-30      |475.0     |653.3076923076923|\n",
      "|2007-05-30      |695.0     |653.3076923076923|\n",
      "|2007-05-30      |671.0     |653.3076923076923|\n",
      "|2007-05-30      |638.0     |653.3076923076923|\n",
      "|2007-05-30      |671.0     |653.3076923076923|\n",
      "|2007-05-30      |429.0     |653.3076923076923|\n",
      "|2007-05-30      |632.0     |653.3076923076923|\n",
      "|2007-05-30      |579.0     |653.3076923076923|\n",
      "|2007-05-30      |474.0     |653.3076923076923|\n",
      "|2007-05-30      |463.0     |653.3076923076923|\n",
      "|2007-05-31      |593.0     |611.4489795918367|\n",
      "|2007-05-31      |578.0     |611.4489795918367|\n",
      "|2007-05-31      |536.0     |611.4489795918367|\n",
      "|2007-05-31      |524.0     |611.4489795918367|\n",
      "|2007-05-31      |520.0     |611.4489795918367|\n",
      "|2007-05-31      |0.0       |611.4489795918367|\n",
      "|2007-05-31      |658.0     |611.4489795918367|\n",
      "|2007-05-31      |0.0       |611.4489795918367|\n",
      "|2007-05-31      |492.0     |611.4489795918367|\n",
      "|2007-05-31      |581.0     |611.4489795918367|\n",
      "|2007-06-01      |543.0     |588.0615384615385|\n",
      "|2007-06-01      |660.0     |588.0615384615385|\n",
      "|2007-06-01      |503.0     |588.0615384615385|\n",
      "|2007-06-01      |556.0     |588.0615384615385|\n",
      "|2007-06-01      |480.0     |588.0615384615385|\n",
      "|2007-06-01      |684.0     |588.0615384615385|\n",
      "|2007-06-01      |592.0     |588.0615384615385|\n",
      "|2007-06-01      |600.0     |588.0615384615385|\n",
      "|2007-06-01      |524.0     |588.0615384615385|\n",
      "|2007-06-01      |460.0     |588.0615384615385|\n",
      "|2007-06-01      |654.0     |588.0615384615385|\n",
      "|2007-06-01      |486.0     |588.0615384615385|\n",
      "|2007-06-01      |520.0     |588.0615384615385|\n",
      "|2007-06-01      |0.0       |588.0615384615385|\n",
      "|2007-06-01      |547.0     |588.0615384615385|\n",
      "|2007-06-01      |454.0     |588.0615384615385|\n",
      "|2007-06-02      |509.0     |573.9866666666667|\n",
      "|2007-06-02      |0.0       |573.9866666666667|\n",
      "|2007-06-02      |665.0     |573.9866666666667|\n",
      "|2007-06-02      |454.0     |573.9866666666667|\n",
      "|2007-06-02      |561.0     |573.9866666666667|\n",
      "|2007-06-02      |565.0     |573.9866666666667|\n",
      "|2007-06-02      |479.0     |573.9866666666667|\n",
      "|2007-06-02      |444.0     |573.9866666666667|\n",
      "|2007-06-02      |549.0     |573.9866666666667|\n",
      "|2007-06-02      |599.0     |573.9866666666667|\n",
      "|2007-06-03      |650.0     |567.7407407407408|\n",
      "|2007-06-03      |607.0     |567.7407407407408|\n",
      "|2007-06-03      |0.0       |567.7407407407408|\n",
      "|2007-06-03      |419.0     |567.7407407407408|\n",
      "|2007-06-03      |758.0     |567.7407407407408|\n",
      "|2007-06-03      |504.0     |567.7407407407408|\n",
      "|2007-06-04      |711.0     |558.2105263157895|\n",
      "|2007-06-04      |530.0     |558.2105263157895|\n",
      "|2007-06-04      |473.0     |558.2105263157895|\n",
      "|2007-06-04      |606.0     |558.2105263157895|\n",
      "|2007-06-04      |502.0     |558.2105263157895|\n",
      "|2007-06-04      |497.0     |558.2105263157895|\n",
      "|2007-06-04      |709.0     |558.2105263157895|\n",
      "|2007-06-04      |412.0     |558.2105263157895|\n",
      "|2007-06-04      |506.0     |558.2105263157895|\n",
      "|2007-06-04      |472.0     |558.2105263157895|\n",
      "|2007-06-04      |507.0     |558.2105263157895|\n",
      "|2007-06-04      |567.0     |558.2105263157895|\n",
      "|2007-06-04      |551.0     |558.2105263157895|\n",
      "|2007-06-04      |0.0       |558.2105263157895|\n",
      "|2007-06-05      |0.0       |549.0970873786408|\n",
      "|2007-06-05      |607.0     |549.0970873786408|\n",
      "|2007-06-05      |0.0       |549.0970873786408|\n",
      "|2007-06-05      |552.0     |549.0970873786408|\n",
      "|2007-06-05      |643.0     |549.0970873786408|\n",
      "+----------------+----------+-----------------+\n",
      "only showing top 100 rows\n",
      "\n"
     ]
    }
   ],
   "source": [
    "##converting timestamp column to seconds, and then using use the rangeBetween function in the pyspark.sql.Window class to include the correct rows in window\n",
    "df_ma = df_ma.withColumn('APPLICATION_DATE', df_ma.APPLICATION_DATE.cast('timestamp'))\n",
    "days = lambda i: i * 86400\n",
    "df_ma = df_ma.withColumn('APPLICATION_DATE', df_ma.APPLICATION_DATE.cast('timestamp'))\n",
    "windowSpec = Window.orderBy(func.col(\"APPLICATION_DATE\").cast('long')).rangeBetween(-days(50), 0)\n",
    "df2 = df_ma.withColumn('RiskScoreMA50', func.avg(\"RISK_SCORE\").over(windowSpec)) \n",
    "\n",
    "## select only few columns\n",
    "df2[to_date('APPLICATION_DATE').alias('APPLICATION_DATE'),'RISK_SCORE','RiskScoreMA50'].show(100,False)"
   ]
  },
  {
   "cell_type": "code",
   "execution_count": 15,
   "metadata": {},
   "outputs": [],
   "source": [
    "## Inserted the data in hive table.\n",
    "df2.write.mode(\"append\").saveAsTable(\"honest.rejected_loan_2007\")"
   ]
  },
  {
   "cell_type": "code",
   "execution_count": 16,
   "metadata": {},
   "outputs": [
    {
     "name": "stdout",
     "output_type": "stream",
     "text": [
      "+--------+\n",
      "|count(1)|\n",
      "+--------+\n",
      "|       0|\n",
      "+--------+\n",
      "\n"
     ]
    }
   ],
   "source": [
    "## Created temp table on top of the dataframe\n",
    "df2.createOrReplaceTempView(\"rejected_loan_2007\") \n",
    "\n",
    "## just a fitler check to show we have data of of 2007 year only\n",
    "spark.sql(\"select count(*) from rejected_loan_2007 where year(APPLICATION_DATE) <> '2007'\").show()"
   ]
  },
  {
   "cell_type": "code",
   "execution_count": 17,
   "metadata": {},
   "outputs": [
    {
     "name": "stdout",
     "output_type": "stream",
     "text": [
      "+----------------+-------------------+--------------------+----------+--------------------+--------+-----+-----------------+-----------+-----------------+\n",
      "|AMOUNT_REQUESTED|   APPLICATION_DATE|          LOAN_TITLE|RISK_SCORE|DEBT-TO-INCOME_RATIO|ZIP_CODE|STATE|EMPLOYMENT_LENGTH|POLICY_CODE|    RiskScoreMA50|\n",
      "+----------------+-------------------+--------------------+----------+--------------------+--------+-----+-----------------+-----------+-----------------+\n",
      "|          1000.0|2007-05-26 00:00:00|Wedding Covered b...|     693.0|                 10%|   481xx|   NM|          4 years|        0.0|            698.0|\n",
      "|          1000.0|2007-05-26 00:00:00|  Consolidating Debt|     703.0|                 10%|   010xx|   MA|         < 1 year|        0.0|            698.0|\n",
      "|         11000.0|2007-05-27 00:00:00|Want to consolida...|     715.0|                 10%|   212xx|   MD|           1 year|        0.0|            669.5|\n",
      "|          6000.0|2007-05-27 00:00:00|             waksman|     698.0|              38.64%|   017xx|   MA|         < 1 year|        0.0|            669.5|\n",
      "|          1500.0|2007-05-27 00:00:00|              mdrigo|     509.0|               9.43%|   209xx|   MD|         < 1 year|        0.0|            669.5|\n",
      "|         15000.0|2007-05-27 00:00:00|          Trinfiniti|     645.0|                  0%|   105xx|   NY|          3 years|        0.0|            669.5|\n",
      "|         10000.0|2007-05-27 00:00:00|         NOTIFYi Inc|     693.0|                 10%|   210xx|   MD|         < 1 year|        0.0|            669.5|\n",
      "|          3900.0|2007-05-27 00:00:00|         For Justin.|     700.0|                 10%|   469xx|   IN|          2 years|        0.0|            669.5|\n",
      "|          3000.0|2007-05-28 00:00:00|              title?|     694.0|                 10%|   808xx|   CO|          4 years|        0.0|         675.4375|\n",
      "|          2500.0|2007-05-28 00:00:00|            timgerst|     573.0|              11.76%|   407xx|   KY|          4 years|        0.0|         675.4375|\n",
      "|          3900.0|2007-05-28 00:00:00| need to consolidate|     710.0|                 10%|   705xx|   LA|        10+ years|        0.0|         675.4375|\n",
      "|          1000.0|2007-05-28 00:00:00|          sixstrings|     680.0|                 10%|   424xx|   KY|           1 year|        0.0|         675.4375|\n",
      "|          3000.0|2007-05-28 00:00:00|          bmoore5110|     688.0|                 10%|   190xx|   PA|         < 1 year|        0.0|         675.4375|\n",
      "|          1500.0|2007-05-28 00:00:00|            MHarkins|     704.0|                 10%|   189xx|   PA|          3 years|        0.0|         675.4375|\n",
      "|          1000.0|2007-05-28 00:00:00|              Moving|     694.0|                 10%|   354xx|   AL|         < 1 year|        0.0|         675.4375|\n",
      "|          8000.0|2007-05-28 00:00:00|Recent College Gr...|     708.0|                 10%|   374xx|   TN|         < 1 year|        0.0|         675.4375|\n",
      "|         12000.0|2007-05-29 00:00:00|    FoundersCafe.com|     685.0|                 10%|   770xx|   TX|          3 years|        0.0|683.9285714285714|\n",
      "|          1000.0|2007-05-29 00:00:00|        UChicago2004|     698.0|                 10%|   207xx|   MD|          3 years|        0.0|683.9285714285714|\n",
      "|         15000.0|2007-05-29 00:00:00|Cancer is Killing...|     680.0|                 10%|   432xx|   OH|         < 1 year|        0.0|683.9285714285714|\n",
      "|          5000.0|2007-05-29 00:00:00|2006-2007 College...|     680.0|                 10%|   011xx|   MA|         < 1 year|        0.0|683.9285714285714|\n",
      "+----------------+-------------------+--------------------+----------+--------------------+--------+-----+-----------------+-----------+-----------------+\n",
      "only showing top 20 rows\n",
      "\n"
     ]
    }
   ],
   "source": [
    "## selecting all the column from table;\n",
    "spark.sql(\"select * from rejected_loan_2007\").show()"
   ]
  },
  {
   "cell_type": "code",
   "execution_count": null,
   "metadata": {},
   "outputs": [],
   "source": []
  }
 ],
 "metadata": {
  "kernelspec": {
   "display_name": "Python 3",
   "language": "python",
   "name": "python3"
  },
  "language_info": {
   "codemirror_mode": {
    "name": "ipython",
    "version": 3
   },
   "file_extension": ".py",
   "mimetype": "text/x-python",
   "name": "python",
   "nbconvert_exporter": "python",
   "pygments_lexer": "ipython3",
   "version": "3.6.9"
  }
 },
 "nbformat": 4,
 "nbformat_minor": 2
}
