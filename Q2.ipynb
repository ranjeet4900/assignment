{
 "cells": [
  {
   "cell_type": "code",
   "execution_count": 1,
   "metadata": {},
   "outputs": [],
   "source": [
    "from pyspark.sql import SparkSession\n",
    "from pyspark.sql.types import *\n",
    "from pyspark.sql.functions import *\n",
    "from pyspark.sql.window import Window\n",
    "from pyspark.sql import functions as func\n",
    "from functools import reduce\n",
    "\n",
    "\n",
    "spark = SparkSession.builder \\\n",
    " .appName(\"moving_average\")\\\n",
    " .config(\"Pausedspark.sql.shuffle.partitions\", \"4\") \\\n",
    " .getOrCreate()\n"
   ]
  },
  {
   "cell_type": "code",
   "execution_count": 2,
   "metadata": {},
   "outputs": [],
   "source": [
    "  df = spark.read \\\n",
    " .option(\"inferSchema\", \"true\") \\\n",
    " .option(\"header\", \"true\") \\\n",
    " .option(\"delimiter\", \",\") \\\n",
    " .csv(\"/home/spark/Downloads/archive/rejected_2007_to_2018q4.csv\")"
   ]
  },
  {
   "cell_type": "code",
   "execution_count": 3,
   "metadata": {},
   "outputs": [
    {
     "name": "stdout",
     "output_type": "stream",
     "text": [
      "root\n",
      " |-- Amount Requested: double (nullable = true)\n",
      " |-- Application Date: string (nullable = true)\n",
      " |-- Loan Title: string (nullable = true)\n",
      " |-- Risk_Score: string (nullable = true)\n",
      " |-- Debt-To-Income Ratio: string (nullable = true)\n",
      " |-- Zip Code: string (nullable = true)\n",
      " |-- State: string (nullable = true)\n",
      " |-- Employment Length: string (nullable = true)\n",
      " |-- Policy Code: string (nullable = true)\n",
      "\n"
     ]
    }
   ],
   "source": [
    "## Schema print just after loading file. so it has space in column name\n",
    "df.printSchema()"
   ]
  },
  {
   "cell_type": "code",
   "execution_count": 4,
   "metadata": {},
   "outputs": [
    {
     "data": {
      "text/plain": [
       "27648741"
      ]
     },
     "execution_count": 4,
     "metadata": {},
     "output_type": "execute_result"
    }
   ],
   "source": [
    "## Total count of file\n",
    "df.count()\n"
   ]
  },
  {
   "cell_type": "code",
   "execution_count": 5,
   "metadata": {
    "scrolled": true
   },
   "outputs": [
    {
     "name": "stdout",
     "output_type": "stream",
     "text": [
      "['Amount Requested', 'Application Date', 'Loan Title', 'Risk_Score', 'Debt-To-Income Ratio', 'Zip Code', 'State', 'Employment Length', 'Policy Code']\n",
      "['AMOUNT_REQUESTED', 'APPLICATION_DATE', 'LOAN_TITLE', 'RISK_SCORE', 'DEBT-TO-INCOME_RATIO', 'ZIP_CODE', 'STATE', 'EMPLOYMENT_LENGTH', 'POLICY_CODE']\n",
      "root\n",
      " |-- AMOUNT_REQUESTED: double (nullable = true)\n",
      " |-- APPLICATION_DATE: string (nullable = true)\n",
      " |-- LOAN_TITLE: string (nullable = true)\n",
      " |-- RISK_SCORE: string (nullable = true)\n",
      " |-- DEBT-TO-INCOME_RATIO: string (nullable = true)\n",
      " |-- ZIP_CODE: string (nullable = true)\n",
      " |-- STATE: string (nullable = true)\n",
      " |-- EMPLOYMENT_LENGTH: string (nullable = true)\n",
      " |-- POLICY_CODE: string (nullable = true)\n",
      "\n"
     ]
    }
   ],
   "source": [
    "\n",
    "current_columns = df.columns # Returns list of columns as python list\n",
    "print(current_columns)\n",
    "\n",
    "new_columns = list(map(lambda item : item.replace(\" \",\"_\").upper(),current_columns)) \n",
    "\n",
    "# Replacing white spaces with '_' and converting the whole column name to upper case\n",
    "\n",
    "print(new_columns)\n",
    "\n",
    "\n",
    "df_ma100 = reduce(lambda data, idx: data.withColumnRenamed(current_columns[idx], new_columns[idx]), range(len(current_columns)), df)\n",
    "\n",
    "df_ma100.printSchema()\n",
    "\n"
   ]
  },
  {
   "cell_type": "code",
   "execution_count": 11,
   "metadata": {},
   "outputs": [
    {
     "data": {
      "text/plain": [
       "82587"
      ]
     },
     "execution_count": 11,
     "metadata": {},
     "output_type": "execute_result"
    }
   ],
   "source": [
    "## Filterd only year 2008 amd 2009 records\n",
    "df_ma100=df_ma100.filter((year(\"APPLICATION_DATE\") > lit(\"2007\")) & (year(\"APPLICATION_DATE\") <= lit(\"2009\")))\n",
    "\n",
    "## count of 2007 data only\n",
    "df_ma100.count()"
   ]
  },
  {
   "cell_type": "code",
   "execution_count": 12,
   "metadata": {
    "scrolled": false
   },
   "outputs": [
    {
     "name": "stdout",
     "output_type": "stream",
     "text": [
      "+----------------+----------+-----------------+\n",
      "|APPLICATION_DATE|RISK_SCORE|RiskScoreMA50    |\n",
      "+----------------+----------+-----------------+\n",
      "|2008-01-01      |null      |522.8888888888889|\n",
      "|2008-01-01      |511.0     |522.8888888888889|\n",
      "|2008-01-01      |null      |522.8888888888889|\n",
      "|2008-01-01      |0.0       |522.8888888888889|\n",
      "|2008-01-01      |680.0     |522.8888888888889|\n",
      "|2008-01-01      |500.0     |522.8888888888889|\n",
      "|2008-01-01      |685.0     |522.8888888888889|\n",
      "|2008-01-01      |536.0     |522.8888888888889|\n",
      "|2008-01-01      |661.0     |522.8888888888889|\n",
      "|2008-01-01      |671.0     |522.8888888888889|\n",
      "|2008-01-01      |684.0     |522.8888888888889|\n",
      "|2008-01-01      |746.0     |522.8888888888889|\n",
      "|2008-01-01      |670.0     |522.8888888888889|\n",
      "|2008-01-01      |592.0     |522.8888888888889|\n",
      "|2008-01-01      |630.0     |522.8888888888889|\n",
      "|2008-01-01      |612.0     |522.8888888888889|\n",
      "|2008-01-01      |557.0     |522.8888888888889|\n",
      "|2008-01-01      |485.0     |522.8888888888889|\n",
      "|2008-01-01      |491.0     |522.8888888888889|\n",
      "|2008-01-01      |713.0     |522.8888888888889|\n",
      "|2008-01-01      |586.0     |522.8888888888889|\n",
      "|2008-01-01      |565.0     |522.8888888888889|\n",
      "|2008-01-01      |0.0       |522.8888888888889|\n",
      "|2008-01-01      |608.0     |522.8888888888889|\n",
      "|2008-01-01      |576.0     |522.8888888888889|\n",
      "|2008-01-01      |426.0     |522.8888888888889|\n",
      "|2008-01-01      |647.0     |522.8888888888889|\n",
      "|2008-01-01      |0.0       |522.8888888888889|\n",
      "|2008-01-01      |null      |522.8888888888889|\n",
      "|2008-01-01      |0.0       |522.8888888888889|\n",
      "|2008-01-01      |724.0     |522.8888888888889|\n",
      "|2008-01-01      |724.0     |522.8888888888889|\n",
      "|2008-01-01      |651.0     |522.8888888888889|\n",
      "|2008-01-01      |637.0     |522.8888888888889|\n",
      "|2008-01-01      |542.0     |522.8888888888889|\n",
      "|2008-01-01      |604.0     |522.8888888888889|\n",
      "|2008-01-01      |476.0     |522.8888888888889|\n",
      "|2008-01-01      |null      |522.8888888888889|\n",
      "|2008-01-01      |634.0     |522.8888888888889|\n",
      "|2008-01-01      |0.0       |522.8888888888889|\n",
      "|2008-01-02      |645.0     |582.0648148148148|\n",
      "|2008-01-02      |494.0     |582.0648148148148|\n",
      "|2008-01-02      |660.0     |582.0648148148148|\n",
      "|2008-01-02      |704.0     |582.0648148148148|\n",
      "|2008-01-02      |730.0     |582.0648148148148|\n",
      "|2008-01-02      |662.0     |582.0648148148148|\n",
      "|2008-01-02      |702.0     |582.0648148148148|\n",
      "|2008-01-02      |688.0     |582.0648148148148|\n",
      "|2008-01-02      |578.0     |582.0648148148148|\n",
      "|2008-01-02      |670.0     |582.0648148148148|\n",
      "|2008-01-02      |0.0       |582.0648148148148|\n",
      "|2008-01-02      |537.0     |582.0648148148148|\n",
      "|2008-01-02      |448.0     |582.0648148148148|\n",
      "|2008-01-02      |632.0     |582.0648148148148|\n",
      "|2008-01-02      |776.0     |582.0648148148148|\n",
      "|2008-01-02      |695.0     |582.0648148148148|\n",
      "|2008-01-02      |603.0     |582.0648148148148|\n",
      "|2008-01-02      |528.0     |582.0648148148148|\n",
      "|2008-01-02      |407.0     |582.0648148148148|\n",
      "|2008-01-02      |703.0     |582.0648148148148|\n",
      "|2008-01-02      |648.0     |582.0648148148148|\n",
      "|2008-01-02      |694.0     |582.0648148148148|\n",
      "|2008-01-02      |647.0     |582.0648148148148|\n",
      "|2008-01-02      |553.0     |582.0648148148148|\n",
      "|2008-01-02      |626.0     |582.0648148148148|\n",
      "|2008-01-02      |415.0     |582.0648148148148|\n",
      "|2008-01-02      |683.0     |582.0648148148148|\n",
      "|2008-01-02      |697.0     |582.0648148148148|\n",
      "|2008-01-02      |null      |582.0648148148148|\n",
      "|2008-01-02      |670.0     |582.0648148148148|\n",
      "|2008-01-02      |590.0     |582.0648148148148|\n",
      "|2008-01-02      |666.0     |582.0648148148148|\n",
      "|2008-01-02      |676.0     |582.0648148148148|\n",
      "|2008-01-02      |632.0     |582.0648148148148|\n",
      "|2008-01-02      |592.0     |582.0648148148148|\n",
      "|2008-01-02      |null      |582.0648148148148|\n",
      "|2008-01-02      |null      |582.0648148148148|\n",
      "|2008-01-02      |560.0     |582.0648148148148|\n",
      "|2008-01-02      |0.0       |582.0648148148148|\n",
      "|2008-01-02      |631.0     |582.0648148148148|\n",
      "|2008-01-02      |681.0     |582.0648148148148|\n",
      "|2008-01-02      |496.0     |582.0648148148148|\n",
      "|2008-01-02      |606.0     |582.0648148148148|\n",
      "|2008-01-02      |403.0     |582.0648148148148|\n",
      "|2008-01-02      |580.0     |582.0648148148148|\n",
      "|2008-01-02      |714.0     |582.0648148148148|\n",
      "|2008-01-02      |537.0     |582.0648148148148|\n",
      "|2008-01-02      |678.0     |582.0648148148148|\n",
      "|2008-01-02      |null      |582.0648148148148|\n",
      "|2008-01-02      |null      |582.0648148148148|\n",
      "|2008-01-02      |609.0     |582.0648148148148|\n",
      "|2008-01-02      |526.0     |582.0648148148148|\n",
      "|2008-01-02      |715.0     |582.0648148148148|\n",
      "|2008-01-02      |736.0     |582.0648148148148|\n",
      "|2008-01-02      |677.0     |582.0648148148148|\n",
      "|2008-01-02      |669.0     |582.0648148148148|\n",
      "|2008-01-02      |674.0     |582.0648148148148|\n",
      "|2008-01-02      |674.0     |582.0648148148148|\n",
      "|2008-01-02      |489.0     |582.0648148148148|\n",
      "|2008-01-02      |623.0     |582.0648148148148|\n",
      "+----------------+----------+-----------------+\n",
      "only showing top 100 rows\n",
      "\n"
     ]
    }
   ],
   "source": [
    "##converting timestamp column to seconds, and then using use the rangeBetween function in the pyspark.sql.Window class to include the correct rows in window\n",
    "df_ma100 = df_ma100.withColumn('APPLICATION_DATE', df_ma100.APPLICATION_DATE.cast('timestamp'))\n",
    "days = lambda i: i * 86400\n",
    "df_ma100 = df_ma100.withColumn('APPLICATION_DATE', df_ma100.APPLICATION_DATE.cast('timestamp'))\n",
    "windowSpec = Window.orderBy(func.col(\"APPLICATION_DATE\").cast('long')).rangeBetween(-days(50), 0)\n",
    "df2 = df_ma100.withColumn('RiskScoreMA50', func.avg(\"RISK_SCORE\").over(windowSpec)) \n",
    "\n",
    "## select only few columns\n",
    "df2[to_date('APPLICATION_DATE').alias('APPLICATION_DATE'),'RISK_SCORE','RiskScoreMA50'].show(100,False)"
   ]
  },
  {
   "cell_type": "code",
   "execution_count": 13,
   "metadata": {},
   "outputs": [],
   "source": [
    "## Inserted the data in hive table.\n",
    "df2.write.mode(\"append\").saveAsTable(\"honest.rejected_loan_2008_2009\")"
   ]
  },
  {
   "cell_type": "code",
   "execution_count": 16,
   "metadata": {},
   "outputs": [
    {
     "name": "stdout",
     "output_type": "stream",
     "text": [
      "+--------+\n",
      "|count(1)|\n",
      "+--------+\n",
      "|       0|\n",
      "+--------+\n",
      "\n"
     ]
    }
   ],
   "source": [
    "## Created temp table on top of the dataframe\n",
    "df2.createOrReplaceTempView(\"rejected_loan_2008_2009\") \n",
    "\n",
    "## just a fitler check to show we have data of of 2007 year only\n",
    "spark.sql(\"select count(*) from rejected_loan_2008_2009 where year(APPLICATION_DATE) not in ('2008','2009')\").show()"
   ]
  },
  {
   "cell_type": "code",
   "execution_count": 17,
   "metadata": {},
   "outputs": [
    {
     "name": "stdout",
     "output_type": "stream",
     "text": [
      "+----------------+-------------------+--------------------+----------+--------------------+--------+-----+-----------------+-----------+-----------------+\n",
      "|AMOUNT_REQUESTED|   APPLICATION_DATE|          LOAN_TITLE|RISK_SCORE|DEBT-TO-INCOME_RATIO|ZIP_CODE|STATE|EMPLOYMENT_LENGTH|POLICY_CODE|    RiskScoreMA50|\n",
      "+----------------+-------------------+--------------------+----------+--------------------+--------+-----+-----------------+-----------+-----------------+\n",
      "|         20000.0|2008-01-01 00:00:00|  debt_consolidation|      null|                100%|   281xx|   NC|         < 1 year|        0.0|522.8888888888889|\n",
      "|          2000.0|2008-01-01 00:00:00|      virgin islands|     511.0|               4.93%|   008xx|   FL|          4 years|        0.0|522.8888888888889|\n",
      "|         20000.0|2008-01-01 00:00:00|  debt_consolidation|      null|                100%|   920xx|   CA|        10+ years|        0.0|522.8888888888889|\n",
      "|         15000.0|2008-01-01 00:00:00|      major_purchase|       0.0|                  0%|   119xx|   NY|        10+ years|        0.0|522.8888888888889|\n",
      "|         25000.0|2008-01-01 00:00:00|           Dr. Brimm|     680.0|              27.89%|   337xx|   FL|        10+ years|        0.0|522.8888888888889|\n",
      "|          1000.0|2008-01-01 00:00:00|           tonimich3|     500.0|               21.4%|   754xx|   TX|          2 years|        0.0|522.8888888888889|\n",
      "|          1500.0|2008-01-01 00:00:00|           Savaenelf|     685.0|               33.6%|   024xx|   MA|          2 years|        0.0|522.8888888888889|\n",
      "|          5000.0|2008-01-01 00:00:00|     Breathing Again|     536.0|               20.9%|   750xx|   TX|          4 years|        0.0|522.8888888888889|\n",
      "|         25000.0|2008-01-01 00:00:00|               phyco|     661.0|              57.76%|   440xx|   OH|        10+ years|        0.0|522.8888888888889|\n",
      "|         25000.0|2008-01-01 00:00:00|           CC2278257|     671.0|                  0%|   782xx|   TX|         < 1 year|        0.0|522.8888888888889|\n",
      "|          7000.0|2008-01-01 00:00:00|This loan will be...|     684.0|              69.05%|   292xx|   SC|         < 1 year|        0.0|522.8888888888889|\n",
      "|          9000.0|2008-01-01 00:00:00|  debt_consolidation|     746.0|              33.45%|   029xx|   RI|        10+ years|        0.0|522.8888888888889|\n",
      "|         15000.0|2008-01-01 00:00:00|    home_improvement|     670.0|              43.08%|   112xx|   NY|        10+ years|        0.0|522.8888888888889|\n",
      "|         12000.0|2008-01-01 00:00:00|            rkayne14|     592.0|               1.78%|   981xx|   WA|           1 year|        0.0|522.8888888888889|\n",
      "|          7800.0|2008-01-01 00:00:00|        Golden_Lotus|     630.0|              15.49%|   921xx|   CA|           1 year|        0.0|522.8888888888889|\n",
      "|          8000.0|2008-01-01 00:00:00|            megstory|     612.0|              22.23%|   606xx|   IL|          3 years|        0.0|522.8888888888889|\n",
      "|          2300.0|2008-01-01 00:00:00|       SavannahSaint|     557.0|              48.21%|   314xx|   GA|          8 years|        0.0|522.8888888888889|\n",
      "|          8000.0|2008-01-01 00:00:00|Hello Lenders,   ...|     485.0|               1560%|   935xx|   CA|         < 1 year|        0.0|522.8888888888889|\n",
      "|          5000.0|2008-01-01 00:00:00|           vinman620|     491.0|              10.72%|   087xx|   NJ|           1 year|        0.0|522.8888888888889|\n",
      "|         25000.0|2008-01-01 00:00:00|          Tigerfan78|     713.0|              36.62%|   398xx|   GA|          4 years|        0.0|522.8888888888889|\n",
      "+----------------+-------------------+--------------------+----------+--------------------+--------+-----+-----------------+-----------+-----------------+\n",
      "only showing top 20 rows\n",
      "\n"
     ]
    }
   ],
   "source": [
    "## selecting all the column from table;\n",
    "spark.sql(\"select * from rejected_loan_2008_2009\").show()"
   ]
  },
  {
   "cell_type": "code",
   "execution_count": null,
   "metadata": {},
   "outputs": [],
   "source": []
  }
 ],
 "metadata": {
  "kernelspec": {
   "display_name": "Python 3",
   "language": "python",
   "name": "python3"
  },
  "language_info": {
   "codemirror_mode": {
    "name": "ipython",
    "version": 3
   },
   "file_extension": ".py",
   "mimetype": "text/x-python",
   "name": "python",
   "nbconvert_exporter": "python",
   "pygments_lexer": "ipython3",
   "version": "3.6.9"
  }
 },
 "nbformat": 4,
 "nbformat_minor": 2
}
